{
 "cells": [
  {
   "cell_type": "markdown",
   "metadata": {
    "id": "kzwswK5CS2mU"
   },
   "source": [
    "### 간단한 선형 회귀 수행"
   ]
  },
  {
   "cell_type": "code",
   "execution_count": 14,
   "metadata": {
    "id": "_V4u5tWuvzoB"
   },
   "outputs": [],
   "source": [
    "import numpy as np \n",
    "from sklearn import linear_model  # scikit-learn 모듈을 가져온다\n",
    "\n",
    "regr = linear_model.LinearRegression() "
   ]
  },
  {
   "cell_type": "code",
   "execution_count": 2,
   "metadata": {
    "colab": {
     "base_uri": "https://localhost:8080/"
    },
    "executionInfo": {
     "elapsed": 5,
     "status": "ok",
     "timestamp": 1636353989652,
     "user": {
      "displayName": "박동규",
      "photoUrl": "https://lh3.googleusercontent.com/a-/AOh14GhpRCibv0_8j-H1SbFa_4yLDitwNUElwkvFYBL3Ppk=s64",
      "userId": "10745738943866733973"
     },
     "user_tz": -540
    },
    "id": "QHlUqi-Hv5NS",
    "outputId": "39c5c8c8-7a1b-40fe-a852-d74ef4220b00"
   },
   "outputs": [
    {
     "data": {
      "text/plain": [
       "LinearRegression()"
      ]
     },
     "execution_count": 2,
     "metadata": {},
     "output_type": "execute_result"
    }
   ],
   "source": [
    "X = [[163], [179], [166], [169], [171]]\n",
    "y = [54, 63, 57, 56, 58]\n",
    "regr.fit(X, y)"
   ]
  },
  {
   "cell_type": "code",
   "execution_count": 3,
   "metadata": {
    "colab": {
     "base_uri": "https://localhost:8080/"
    },
    "executionInfo": {
     "elapsed": 4,
     "status": "ok",
     "timestamp": 1636353991848,
     "user": {
      "displayName": "박동규",
      "photoUrl": "https://lh3.googleusercontent.com/a-/AOh14GhpRCibv0_8j-H1SbFa_4yLDitwNUElwkvFYBL3Ppk=s64",
      "userId": "10745738943866733973"
     },
     "user_tz": -540
    },
    "id": "hBkuCKPBwKBX",
    "outputId": "885a873c-fae9-4969-9005-5e2946902452"
   },
   "outputs": [
    {
     "name": "stdout",
     "output_type": "stream",
     "text": [
      "y = [0.53]* X + -32.50\n",
      "데이터와 선형회귀 직선의 관계점수: 91.9%\n"
     ]
    }
   ],
   "source": [
    "coef = regr.coef_            # 직선의 기울기\n",
    "intercept = regr.intercept_  # 직선의 절편\n",
    "score = regr.score(X, y)     # 학습된 직선이 데이터를 얼마나 잘 따르나\n",
    "\n",
    "print(\"y = {}* X + {:.2f}\".format(coef.round(2), intercept))\n",
    "print(\"데이터와 선형회귀 직선의 관계점수: {:.1%}\".format(score))"
   ]
  },
  {
   "cell_type": "markdown",
   "metadata": {
    "id": "5FkND8LdTLX7"
   },
   "source": [
    "### 데이터 시각화 및 차원 증가"
   ]
  },
  {
   "cell_type": "code",
   "execution_count": 4,
   "metadata": {
    "colab": {
     "base_uri": "https://localhost:8080/",
     "height": 282
    },
    "executionInfo": {
     "elapsed": 579,
     "status": "ok",
     "timestamp": 1636354034678,
     "user": {
      "displayName": "박동규",
      "photoUrl": "https://lh3.googleusercontent.com/a-/AOh14GhpRCibv0_8j-H1SbFa_4yLDitwNUElwkvFYBL3Ppk=s64",
      "userId": "10745738943866733973"
     },
     "user_tz": -540
    },
    "id": "yrpadWv_wilO",
    "outputId": "a34fc7ba-aaad-4faa-d450-14fce1d88474"
   },
   "outputs": [
    {
     "data": {
      "text/plain": [
       "[<matplotlib.lines.Line2D at 0x27294d4e048>]"
      ]
     },
     "execution_count": 4,
     "metadata": {},
     "output_type": "execute_result"
    },
    {
     "data": {
      "image/png": "[encoded data removed]",
      "text/plain": [
       "<Figure size 640x480 with 1 Axes>"
      ]
     },
     "metadata": {},
     "output_type": "display_data"
    }
   ],
   "source": [
    "import matplotlib.pyplot as plt\n",
    "\n",
    "# 학습 데이터와 y 값을 산포도로 그린다. \n",
    "plt.scatter(X, y, color='blue', marker='D')\n",
    "# 학습 데이터를 입력으로 하여 예측값을 계산한다.\n",
    "y_pred = regr.predict(X)\n",
    "# 계산된 기울기와 y 절편을 가지는 점선을 그려보자\n",
    "plt.plot(X, y_pred, 'r:')"
   ]
  },
  {
   "cell_type": "code",
   "execution_count": 5,
   "metadata": {
    "colab": {
     "base_uri": "https://localhost:8080/"
    },
    "executionInfo": {
     "elapsed": 387,
     "status": "ok",
     "timestamp": 1636354042514,
     "user": {
      "displayName": "박동규",
      "photoUrl": "https://lh3.googleusercontent.com/a-/AOh14GhpRCibv0_8j-H1SbFa_4yLDitwNUElwkvFYBL3Ppk=s64",
      "userId": "10745738943866733973"
     },
     "user_tz": -540
    },
    "id": "GQbg1zQqwRhb",
    "outputId": "436a56c4-b556-428f-eecb-0ba21619c885"
   },
   "outputs": [
    {
     "name": "stdout",
     "output_type": "stream",
     "text": [
      "동윤이의 키가 [[167]]cm 이므로 몸무게는 [56.2]kg으로 추정됨\n"
     ]
    }
   ],
   "source": [
    "unseen = [[167]]\n",
    "result = regr.predict(unseen)\n",
    "print('동윤이의 키가 {}cm 이므로 몸무게는 {}kg으로 추정됨'.format(\\\n",
    "                      unseen, result.round(1)))"
   ]
  },
  {
   "cell_type": "code",
   "execution_count": 6,
   "metadata": {
    "colab": {
     "base_uri": "https://localhost:8080/"
    },
    "executionInfo": {
     "elapsed": 348,
     "status": "ok",
     "timestamp": 1636354049342,
     "user": {
      "displayName": "박동규",
      "photoUrl": "https://lh3.googleusercontent.com/a-/AOh14GhpRCibv0_8j-H1SbFa_4yLDitwNUElwkvFYBL3Ppk=s64",
      "userId": "10745738943866733973"
     },
     "user_tz": -540
    },
    "id": "PE4Tp1-kjhfl",
    "outputId": "ecadbbff-cb77-47a1-8f3e-dc65e2b96606"
   },
   "outputs": [
    {
     "name": "stdout",
     "output_type": "stream",
     "text": [
      "y = [0.53]* X + -32.50\n",
      "데이터와 선형회귀 직선의 관계점수: 91.9%\n"
     ]
    }
   ],
   "source": [
    "coef = regr.coef_            # 직선의 기울기\n",
    "intercept = regr.intercept_  # 직선의 절편\n",
    "score = regr.score(X, y)     # 학습된 직선이 데이터를 얼마나 잘 따르나\n",
    "\n",
    "print(\"y = {}* X + {:.2f}\".format(coef.round(2), intercept))\n",
    "print(\"데이터와 선형회귀 직선의 관계점수: {:.1%}\".format(score))"
   ]
  },
  {
   "cell_type": "code",
   "execution_count": 7,
   "metadata": {
    "colab": {
     "base_uri": "https://localhost:8080/"
    },
    "executionInfo": {
     "elapsed": 375,
     "status": "ok",
     "timestamp": 1636354257963,
     "user": {
      "displayName": "박동규",
      "photoUrl": "https://lh3.googleusercontent.com/a-/AOh14GhpRCibv0_8j-H1SbFa_4yLDitwNUElwkvFYBL3Ppk=s64",
      "userId": "10745738943866733973"
     },
     "user_tz": -540
    },
    "id": "_YH3eYvTt8Oj",
    "outputId": "85d29aca-b538-4e09-a2fa-d2436e24f20b"
   },
   "outputs": [
    {
     "name": "stdout",
     "output_type": "stream",
     "text": [
      "계수 : [ 0.74803397 -7.23030041]\n",
      "절편 : -61.227783894306384\n",
      "점수 : 0.8425933302504424\n",
      "동윤이와 은지의 추정 몸무게 : [63.69388959 56.46358918]\n"
     ]
    }
   ],
   "source": [
    "from sklearn import linear_model \n",
    " \n",
    "regr = linear_model.LinearRegression() \n",
    "# 남자는 0, 여자는 1\n",
    "X = [[168, 0], [166, 0], [173, 0], [165, 0], [177, 0], [163, 0], \\\n",
    "     [178, 0], [172, 0], [163, 1], [162, 1], [171, 1], [162, 1], \\\n",
    "     [164, 1], [162, 1], [158, 1], [173, 1], ]    # 입력데이터를 2차원으로 만들어야 함 \n",
    "y = [65, 61, 68, 63, 68, 61, 76, 67, 55, 51, 59, 53, 61, 56, 44, 57]     # y 값은 1차원 데이터\n",
    "regr.fit(X, y)         # 학습 \n",
    "print('계수 :', regr.coef_ )\n",
    "print('절편 :', regr.intercept_)\n",
    "print('점수 :', regr.score(X, y))\n",
    "print('동윤이와 은지의 추정 몸무게 :', regr.predict([[167, 0], [167, 1]]))"
   ]
  },
  {
   "cell_type": "markdown",
   "metadata": {
    "id": "lf_AT7fZT-AU"
   },
   "source": [
    "### 오차 함수 구현 및 파라미터 공간의 최적값"
   ]
  },
  {
   "cell_type": "code",
   "execution_count": 8,
   "metadata": {
    "colab": {
     "base_uri": "https://localhost:8080/",
     "height": 282
    },
    "executionInfo": {
     "elapsed": 529,
     "status": "ok",
     "timestamp": 1636354263407,
     "user": {
      "displayName": "박동규",
      "photoUrl": "https://lh3.googleusercontent.com/a-/AOh14GhpRCibv0_8j-H1SbFa_4yLDitwNUElwkvFYBL3Ppk=s64",
      "userId": "10745738943866733973"
     },
     "user_tz": -540
    },
    "id": "iL1LoSLBB6K8",
    "outputId": "3c8b2159-58aa-4674-948a-044d0f84f53b"
   },
   "outputs": [
    {
     "data": {
      "text/plain": [
       "[<matplotlib.lines.Line2D at 0x27294e776c8>]"
      ]
     },
     "execution_count": 8,
     "metadata": {},
     "output_type": "execute_result"
    },
    {
     "data": {
      "image/png": "[encoded data removed]",
      "text/plain": [
       "<Figure size 640x480 with 1 Axes>"
      ]
     },
     "metadata": {},
     "output_type": "display_data"
    }
   ],
   "source": [
    "import matplotlib.pyplot as plt\n",
    "\n",
    "x = np.array([1, 2, 3, 4, 5]) # \n",
    "y = np.array([1.2, 2.4, 2.5, 4.6, 5.4]) # y 데이터\n",
    "\n",
    "plt.scatter(x, y, color='blue', marker='D')\n",
    "# 추정 그래프를 빨간색 실선으로 그림\n",
    "plt.plot(x, 0.7 * x, 'r-')"
   ]
  },
  {
   "cell_type": "code",
   "execution_count": 9,
   "metadata": {
    "colab": {
     "base_uri": "https://localhost:8080/"
    },
    "executionInfo": {
     "elapsed": 420,
     "status": "ok",
     "timestamp": 1627648652981,
     "user": {
      "displayName": "박동규",
      "photoUrl": "https://lh3.googleusercontent.com/a-/AOh14Gh9Ua-AujKgPQfHqoZthves993O8eBGSnBglV9Bsg=s64",
      "userId": "12283933156391729074"
     },
     "user_tz": -540
    },
    "id": "_QWMaZF7MInw",
    "outputId": "7b3cfa1b-57ed-42d0-8dab-3d60ea6bb7ec"
   },
   "outputs": [
    {
     "data": {
      "text/plain": [
       "[<matplotlib.lines.Line2D at 0x27294fd7988>]"
      ]
     },
     "execution_count": 9,
     "metadata": {},
     "output_type": "execute_result"
    },
    {
     "data": {
      "image/png": "[encoded data removed]",
      "text/plain": [
       "<Figure size 640x480 with 1 Axes>"
      ]
     },
     "metadata": {},
     "output_type": "display_data"
    }
   ],
   "source": [
    "plt.scatter(x, y, color='blue', marker='D')\n",
    "# 추정 그래프를 빨간색 실선으로 그림\n",
    "plt.plot(x, 0.9 * x, 'r-')"
   ]
  },
  {
   "cell_type": "code",
   "execution_count": 10,
   "metadata": {
    "colab": {
     "base_uri": "https://localhost:8080/"
    },
    "executionInfo": {
     "elapsed": 39,
     "status": "ok",
     "timestamp": 1627648652982,
     "user": {
      "displayName": "박동규",
      "photoUrl": "https://lh3.googleusercontent.com/a-/AOh14Gh9Ua-AujKgPQfHqoZthves993O8eBGSnBglV9Bsg=s64",
      "userId": "12283933156391729074"
     },
     "user_tz": -540
    },
    "id": "DSrvLslmMeYH",
    "outputId": "f39bca1d-e8d6-49c2-93be-b332426979e8"
   },
   "outputs": [
    {
     "data": {
      "text/plain": [
       "[<matplotlib.lines.Line2D at 0x2729508fa88>]"
      ]
     },
     "execution_count": 10,
     "metadata": {},
     "output_type": "execute_result"
    },
    {
     "data": {
      "image/png": "[encoded data removed]",
      "text/plain": [
       "<Figure size 640x480 with 1 Axes>"
      ]
     },
     "metadata": {},
     "output_type": "display_data"
    }
   ],
   "source": [
    "plt.scatter(x, y, color='blue', marker='D')\n",
    "# 추정 그래프를 빨간색 실선으로 그림\n",
    "plt.plot(x, 1.05 * x, 'r-')"
   ]
  },
  {
   "cell_type": "code",
   "execution_count": 13,
   "metadata": {
    "colab": {
     "base_uri": "https://localhost:8080/"
    },
    "executionInfo": {
     "elapsed": 373,
     "status": "ok",
     "timestamp": 1636354274371,
     "user": {
      "displayName": "박동규",
      "photoUrl": "https://lh3.googleusercontent.com/a-/AOh14GhpRCibv0_8j-H1SbFa_4yLDitwNUElwkvFYBL3Ppk=s64",
      "userId": "10745738943866733973"
     },
     "user_tz": -540
    },
    "id": "dCUPKjQsu2Ky",
    "outputId": "df17d5a0-e6e9-47e1-bc67-3b635578cfe0"
   },
   "outputs": [
    {
     "name": "stdout",
     "output_type": "stream",
     "text": [
      "평균 제곱 오차 =  0.19399999999999995\n"
     ]
    }
   ],
   "source": [
    "import numpy as np\n",
    "\n",
    "y = np.array([1.2, 2.4, 2.5, 4.6, 5.4])\n",
    "y_hat = np.array([1, 2, 3, 4, 5])\n",
    "diff = (y_hat - y) ** 2     # y_hat과 y의 차이값의 제곱\n",
    "e_mse = diff.sum() / len(y)\n",
    "print('평균 제곱 오차 = ', e_mse)"
   ]
  },
  {
   "cell_type": "code",
   "execution_count": 12,
   "metadata": {
    "colab": {
     "base_uri": "https://localhost:8080/"
    },
    "executionInfo": {
     "elapsed": 366,
     "status": "ok",
     "timestamp": 1636354279001,
     "user": {
      "displayName": "박동규",
      "photoUrl": "https://lh3.googleusercontent.com/a-/AOh14GhpRCibv0_8j-H1SbFa_4yLDitwNUElwkvFYBL3Ppk=s64",
      "userId": "10745738943866733973"
     },
     "user_tz": -540
    },
    "id": "kpusmh-Ssitc",
    "outputId": "75845324-989c-4691-ad06-fbc657bb62d6"
   },
   "outputs": [
    {
     "name": "stdout",
     "output_type": "stream",
     "text": [
      "평균 제곱 오차 =  0.19399999999999995\n"
     ]
    }
   ],
   "source": [
    "from sklearn.metrics import mean_squared_error\n",
    "\n",
    "print('평균 제곱 오차 = ', mean_squared_error(y_hat, y))"
   ]
  }
 ],
 "metadata": {
  "colab": {
   "collapsed_sections": [],
   "name": "07_sklearn.ipynb",
   "provenance": []
  },
  "kernelspec": {
   "display_name": "Python 3 (ipykernel)",
   "language": "python",
   "name": "python3"
  },
  "language_info": {
   "codemirror_mode": {
    "name": "ipython",
    "version": 3
   },
   "file_extension": ".py",
   "mimetype": "text/x-python",
   "name": "python",
   "nbconvert_exporter": "python",
   "pygments_lexer": "ipython3",
   "version": "3.7.12"
  }
 },
 "nbformat": 4,
 "nbformat_minor": 1
}
