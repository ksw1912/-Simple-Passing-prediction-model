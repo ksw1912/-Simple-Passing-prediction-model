{
 "cells": [
  {
   "cell_type": "markdown",
   "metadata": {},
   "source": [
    "AND Gate"
   ]
  },
  {
   "cell_type": "code",
   "execution_count": 2,
   "metadata": {},
   "outputs": [],
   "source": [
    "import numpy as np\n",
    "value = np.array([1,2])\n",
    "weigth = np.array([0.5,1.2])\n",
    "bias = 0.4\n",
    "temp = 0.6\n",
    "def perceptron(value, weight,theta):\n",
    "    temp = 0\n",
    "    for i,j in value,weight:\n",
    "        temp = i*j\n",
    "    if temp > theta:\n",
    "        return 1\n",
    "    else: \n",
    "        return 0"
   ]
  },
  {
   "cell_type": "markdown",
   "metadata": {},
   "source": [
    "AND 편향 추가"
   ]
  },
  {
   "cell_type": "code",
   "execution_count": null,
   "metadata": {},
   "outputs": [],
   "source": [
    "import numpy as np\n",
    "value = np.array([1,2])\n",
    "weigth = np.array([0.5,1.2])\n",
    "bias = 0.4\n",
    "theta = 0.5\n",
    "def perceptron_AND(value, weight):\n",
    "    bias = 0.4\n",
    "    temp = 0\n",
    "    # for i,j in value,weight:\n",
    "    #     temp = i*j\n",
    "    # temp += bias\n",
    "    temp = sum(weigth*value)+bias\n",
    "    if temp > 0:\n",
    "        return 1\n",
    "    else: \n",
    "        return 0"
   ]
  },
  {
   "cell_type": "markdown",
   "metadata": {},
   "source": [
    "OR Gate"
   ]
  },
  {
   "cell_type": "code",
   "execution_count": null,
   "metadata": {},
   "outputs": [],
   "source": [
    "def perceptron_OR(value, weight,bias,theta):\n",
    "    temp = 0\n",
    "    # for i,j in value,weight:\n",
    "    #     temp = i*j\n",
    "    # temp += bias\n",
    "    temp = sum(weigth*value)+bias\n",
    "    if temp <= theta:\n",
    "        return 1\n",
    "    else: \n",
    "        return 0    "
   ]
  },
  {
   "cell_type": "code",
   "execution_count": null,
   "metadata": {},
   "outputs": [],
   "source": [
    "import numpy as np\n",
    "value = np.array([1,2])\n",
    "weigth = np.array([0.5,1.2])\n",
    "bias = 0.4\n",
    "theta = 0.5\n",
    "def perceptron_NAND(value, weight,bias,theta):\n",
    "    temp = 0\n",
    "    # for i,j in value,weight:\n",
    "    #     temp = i*j\n",
    "    # temp += bias\n",
    "    temp = sum(weigth*value)+bias\n",
    "    if temp <= theta:\n",
    "        return 1\n",
    "    else: \n",
    "        return 0"
   ]
  },
  {
   "cell_type": "code",
   "execution_count": null,
   "metadata": {},
   "outputs": [],
   "source": [
    "#AND GATE\n",
    "def AND(x1, x2):\n",
    "    x = np.array([x1, x2]) #입력값\n",
    "    w = np.array([0.4, 0.4]) #가중치\n",
    "    b = -0.7 #편향\n",
    "    tmp = np.sum(w*x) + b\n",
    "    if tmp > 0:\n",
    "        return 1\n",
    "    else:\n",
    "        return 0\n",
    "\n",
    "#NAND GATE\n",
    "def NAND(x1, x2):\n",
    "    x = np.array([x1, x2]) #입력값\n",
    "    w = np.array([-0.4, -0.4]) #가중치\n",
    "    b = 0.7 #편향\n",
    "    tmp = np.sum(w*x) + b\n",
    "    if tmp > 0:\n",
    "        return 1\n",
    "    else:\n",
    "        return 0\n",
    "\n",
    "#OR GATE\n",
    "def OR(x1, x2):\n",
    "    x = np.array([x1, x2]) \n",
    "    w = np.array([0.4, 0.4]) \n",
    "    b = -0.2 #편향\n",
    "    tmp = np.sum(w*x) + b\n",
    "    if tmp > 0:\n",
    "        return 1\n",
    "    else:\n",
    "        return 0\n",
    "\n",
    "#XOR GATE\n",
    "def XOR(x1, x2):\n",
    "    s1 = NAND(x1, x2)\n",
    "    s2 = OR(x1, x2)\n",
    "    y = AND(s1, x2)\n",
    "    return y\n"
   ]
  },
  {
   "cell_type": "code",
   "execution_count": null,
   "metadata": {},
   "outputs": [],
   "source": [
    "\n",
    "def step_function(x):\n",
    "    if x>0 :\n",
    "        return 1\n",
    "    else:\n",
    "        return 0\n",
    "def NOT(x):\n",
    "    if x == 0:\n",
    "        return 1\n",
    "    else:\n",
    "        \n",
    "def solution(A,B):\n",
    "    a1 = not(A)\n",
    "    b1 = not(B)\n",
    "    and1 = AND(a1,b1)\n",
    "    and2 = AND(A,B)\n",
    "    return OR(and1,and2)\n",
    "\n",
    "def solution2(X,Y,Z):\n",
    "    y1 = NOT(Y)\n",
    "    \n",
    "    "
   ]
  }
 ],
 "metadata": {
  "kernelspec": {
   "display_name": "tensorflow_env",
   "language": "python",
   "name": "python3"
  },
  "language_info": {
   "codemirror_mode": {
    "name": "ipython",
    "version": 3
   },
   "file_extension": ".py",
   "mimetype": "text/x-python",
   "name": "python",
   "nbconvert_exporter": "python",
   "pygments_lexer": "ipython3",
   "version": "3.12.2"
  }
 },
 "nbformat": 4,
 "nbformat_minor": 2
}
