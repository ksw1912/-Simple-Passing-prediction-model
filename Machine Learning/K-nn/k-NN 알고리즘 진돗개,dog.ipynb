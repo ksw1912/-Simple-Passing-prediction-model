{
 "cells": [
  {
   "cell_type": "code",
   "execution_count": 1,
   "metadata": {},
   "outputs": [],
   "source": [
    "import numpy as np\n",
    "import matplotlib.pyplot as plt\n",
    "\n",
    "from sklearn.neighbors import KNeighborsClassifier\n",
    "from sklearn import metrics"
   ]
  },
  {
   "cell_type": "code",
   "execution_count": null,
   "metadata": {},
   "outputs": [],
   "source": [
    "# 진돗개(A), 길이(length)와 높이(height) 데이터 \n",
    "jin_length = [56, 47, 56, 46, 49, 53, 52, 48] \n",
    "jin_height = [52, 52, 50, 53, 50, 53, 49, 54]\n",
    "# 닥스훈트(B), 길이(length)와 높이(height) 데이터 \n",
    "dach_length = [55, 57, 64, 63, 58, 49, 54, 61] \n",
    "dach_height = [30, 31, 36, 30, 33, 25, 37, 34]"
   ]
  },
  {
   "cell_type": "code",
   "execution_count": null,
   "metadata": {},
   "outputs": [],
   "source": [
    "plt. scatter(jin_length, jin_height, c= 'r', label= 'Jindo')\n",
    "plt. scatter(dach_length, dach_height, c= 'b', label= 'Dach')\n",
    "plt. xlabel('length')\n",
    "plt. ylabel('height')\n",
    "plt. legend()\n",
    "newdata_length, newdata_height =     [59], [35]\n",
    "plt. scatter(newdata_length, newdata_height, c= 'g', label= 'New') \n",
    "plt. show()"
   ]
  },
  {
   "cell_type": "code",
   "execution_count": 2,
   "metadata": {},
   "outputs": [
    {
     "name": "stdout",
     "output_type": "stream",
     "text": [
      "새로운 데이터: [[59, 35]] 판정결과: 닥스훈트\n",
      "거리: [[2.23606798 2.23606798 4.47213595]] 인덱스: [[12 15  9]] dogs[indexes]: [[[58 33]\n",
      "  [61 34]\n",
      "  [57 31]]]\n"
     ]
    }
   ],
   "source": [
    "import numpy as np\n",
    "import matplotlib.pyplot as plt\n",
    "from sklearn.neighbors import KNeighborsClassifier\n",
    "from sklearn import metrics\n",
    "\n",
    "# 진돗개(A), 길이(length)와 높이(height) 데이터, 라벨=1\n",
    "jin_length = [56, 47, 56, 46, 49, 53, 52, 48]\n",
    "jin_height = [52, 52, 50, 53, 50, 53, 49, 54]\n",
    "\n",
    "# 닥스훈트(B), 길이(length)와 높이(height) 데이터, 라벨=0\n",
    "dach_length = [55, 57, 64, 63, 58, 49, 54, 61]\n",
    "dach_height = [30, 31, 36, 30, 33, 25, 37, 34]\n",
    "\n",
    "j_data = np.column_stack((jin_length, jin_height))\n",
    "j_label = np.ones(len(j_data))\n",
    "\n",
    "d_data = np.column_stack((dach_length, dach_height))\n",
    "d_label = np.zeros(len(d_data))\n",
    "\n",
    "newdata = [[59, 35]]\n",
    "dogs = np.concatenate((j_data, d_data))\n",
    "labels = np.concatenate((j_label, d_label))\n",
    "\n",
    "dog_classes = {0: '닥스훈트', 1: '진돗개'}\n",
    "k = 3\n",
    "knn = KNeighborsClassifier(n_neighbors=k)\n",
    "knn.fit(dogs, labels)\n",
    "\n",
    "y_pred = knn.predict(newdata)\n",
    "print('새로운 데이터:', newdata, '판정결과:', dog_classes[y_pred[0]])\n",
    "\n",
    "distances, indexes = knn.kneighbors(newdata)\n",
    "print('거리:', distances, '인덱스:', indexes, 'dogs[indexes]:', dogs[indexes])\n"
   ]
  }
 ],
 "metadata": {
  "kernelspec": {
   "display_name": "tensorflow_env",
   "language": "python",
   "name": "python3"
  },
  "language_info": {
   "codemirror_mode": {
    "name": "ipython",
    "version": 3
   },
   "file_extension": ".py",
   "mimetype": "text/x-python",
   "name": "python",
   "nbconvert_exporter": "python",
   "pygments_lexer": "ipython3",
   "version": "3.7.12"
  }
 },
 "nbformat": 4,
 "nbformat_minor": 2
}
