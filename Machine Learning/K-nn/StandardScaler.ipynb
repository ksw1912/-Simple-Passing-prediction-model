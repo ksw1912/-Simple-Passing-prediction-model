{
 "cells": [
  {
   "cell_type": "code",
   "execution_count": 1,
   "metadata": {},
   "outputs": [
    {
     "name": "stdout",
     "output_type": "stream",
     "text": [
      "[[ 1 11]\n",
      " [ 2 22]\n",
      " [ 3 33]\n",
      " [ 4 44]]\n",
      "0.0 1.0\n",
      "0.0 1.0\n"
     ]
    }
   ],
   "source": [
    "import numpy as np\n",
    "import pandas as pd\n",
    "from sklearn.preprocessing import StandardScaler\n",
    "\n",
    "a = np.array([1, 2, 3, 4])\n",
    "b = np.array([11, 22, 33, 44])\n",
    "data = np.column_stack([a, b])\n",
    "print(data)\n",
    "\n",
    "standardScaler = StandardScaler()\n",
    "standardScaler.fit(data)\n",
    "data_scaled = standardScaler.transform(data)\n",
    "\n",
    "print(data_scaled[:, 0].mean(), data_scaled[:, 0].std())\n",
    "print(data_scaled[:, 1].mean(), data_scaled[:, 1].std())\n"
   ]
  }
 ],
 "metadata": {
  "kernelspec": {
   "display_name": "tensorflow_env",
   "language": "python",
   "name": "python3"
  },
  "language_info": {
   "codemirror_mode": {
    "name": "ipython",
    "version": 3
   },
   "file_extension": ".py",
   "mimetype": "text/x-python",
   "name": "python",
   "nbconvert_exporter": "python",
   "pygments_lexer": "ipython3",
   "version": "3.12.2"
  }
 },
 "nbformat": 4,
 "nbformat_minor": 2
}
