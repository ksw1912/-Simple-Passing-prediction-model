{
 "cells": [
  {
   "cell_type": "markdown",
   "metadata": {
    "id": "Ur5YpXa-UhrX"
   },
   "source": [
    "### 학습률과 학습 횟수"
   ]
  },
  {
   "cell_type": "code",
   "execution_count": 1,
   "metadata": {
    "colab": {
     "base_uri": "https://localhost:8080/"
    },
    "executionInfo": {
     "elapsed": 377,
     "status": "ok",
     "timestamp": 1636354647512,
     "user": {
      "displayName": "박동규",
      "photoUrl": "https://lh3.googleusercontent.com/a-/AOh14GhpRCibv0_8j-H1SbFa_4yLDitwNUElwkvFYBL3Ppk=s64",
      "userId": "10745738943866733973"
     },
     "user_tz": -540
    },
    "id": "jgNEq5bgWRkS",
    "outputId": "629dd98b-54db-4bd2-c8ee-94f58a29b74e"
   },
   "outputs": [
    {
     "name": "stdout",
     "output_type": "stream",
     "text": [
      "w =  0.63 b = -1.65\n"
     ]
    }
   ],
   "source": [
    "import numpy as np\n",
    "import matplotlib.pyplot as plt\n",
    "\n",
    "X = np.array([1, 4.5, 9, 10, 13])\n",
    "y = np.array([0, 0.2, 2.5, 5.4, 7.3])\n",
    "\n",
    "w, b = 0, 0    # w, b 초기값을 0으로 두자\n",
    "learning_rate, epoch = 0.005, 1000 # 학습률과 학습횟수(에폭)\n",
    "n = len(X)  # 입력데이터 개수\n",
    "\n",
    "for i in range(epoch):   # 학습 루프\n",
    "    y_pred = w*X + b     # 현재 w, b를 이용한 작업 T\n",
    "    error = y_pred - y   # 성능척도 P\n",
    "    w = w - learning_rate * (error * X).sum() # 경험 E로 개선\n",
    "    b = b - learning_rate * error.sum()\n",
    "\n",
    "print('w = ', w.round(2), 'b =', b.round(2))"
   ]
  },
  {
   "cell_type": "markdown",
   "metadata": {
    "id": "-Q0Ygct7VPps"
   },
   "source": [
    "### 미분과 경사 하강법"
   ]
  },
  {
   "cell_type": "code",
   "execution_count": 11,
   "metadata": {
    "colab": {
     "base_uri": "https://localhost:8080/"
    },
    "executionInfo": {
     "elapsed": 387,
     "status": "ok",
     "timestamp": 1636354603910,
     "user": {
      "displayName": "박동규",
      "photoUrl": "https://lh3.googleusercontent.com/a-/AOh14GhpRCibv0_8j-H1SbFa_4yLDitwNUElwkvFYBL3Ppk=s64",
      "userId": "10745738943866733973"
     },
     "user_tz": -540
    },
    "id": "lUBXWQCmVTcQ",
    "outputId": "c9597252-4008-462b-b67b-646b7ea1a440"
   },
   "outputs": [
    {
     "name": "stdout",
     "output_type": "stream",
     "text": [
      "w = [0.63] , b = -1.65\n",
      "0.867800695049654\n"
     ]
    }
   ],
   "source": [
    "from sklearn import linear_model\n",
    "import numpy as np\n",
    "X = np.array([1, 4.5, 9, 10, 13])\n",
    "y = np.array([0, 0.2, 2.5, 5.4, 7.3])\n",
    "regr = linear_model.LinearRegression() # 절편값 b는 0으로 둔다\n",
    "X = X[:, np.newaxis]\n",
    "regr.fit(X, y) # 학습\n",
    "print('w =', regr.coef_.round(2),\\\n",
    "      ', b =', regr.intercept_.round(2))"
   ]
  },
  {
   "cell_type": "code",
   "execution_count": 3,
   "metadata": {
    "colab": {
     "base_uri": "https://localhost:8080/",
     "height": 282
    },
    "executionInfo": {
     "elapsed": 487,
     "status": "ok",
     "timestamp": 1636354687048,
     "user": {
      "displayName": "박동규",
      "photoUrl": "https://lh3.googleusercontent.com/a-/AOh14GhpRCibv0_8j-H1SbFa_4yLDitwNUElwkvFYBL3Ppk=s64",
      "userId": "10745738943866733973"
     },
     "user_tz": -540
    },
    "id": "m2kVd0PjMQ-7",
    "outputId": "f1edf1e5-2a00-4327-b72a-cb872d24b07a",
    "scrolled": true
   },
   "outputs": [
    {
     "data": {
      "text/plain": [
       "[<matplotlib.lines.Line2D at 0x1a8be7a0108>]"
      ]
     },
     "execution_count": 3,
     "metadata": {},
     "output_type": "execute_result"
    },
    {
     "data": {
      "image/png": "[encoded data removed]",
      "text/plain": [
       "<Figure size 640x480 with 1 Axes>"
      ]
     },
     "metadata": {},
     "output_type": "display_data"
    }
   ],
   "source": [
    "import matplotlib.pyplot as plt\n",
    "import numpy as np\n",
    "\n",
    "X = np.array([1, 4.5, 9, 10, 13])\n",
    "y = np.array([0, 0.2, 2.5, 5.4, 7.3])\n",
    "plt.scatter(X, y, color='blue', marker='D')\n",
    "# 계산으로 구한 w, b를 이용하여 선형 회귀 직선을 그리자\n",
    "y_pred = 0.63 * X - 1.65  \n",
    "plt.plot(X, y_pred, 'r:')"
   ]
  },
  {
   "cell_type": "markdown",
   "metadata": {},
   "source": [
    "### 학습률이 너무 작은 경우"
   ]
  },
  {
   "cell_type": "code",
   "execution_count": 4,
   "metadata": {
    "colab": {
     "base_uri": "https://localhost:8080/"
    },
    "executionInfo": {
     "elapsed": 365,
     "status": "ok",
     "timestamp": 1636354721424,
     "user": {
      "displayName": "박동규",
      "photoUrl": "https://lh3.googleusercontent.com/a-/AOh14GhpRCibv0_8j-H1SbFa_4yLDitwNUElwkvFYBL3Ppk=s64",
      "userId": "10745738943866733973"
     },
     "user_tz": -540
    },
    "id": "2QiiFp2EV1ao",
    "outputId": "590304ea-bbb4-44a2-fcbe-02303145633d"
   },
   "outputs": [
    {
     "name": "stdout",
     "output_type": "stream",
     "text": [
      "w =  0.45 b = 0.03\n"
     ]
    }
   ],
   "source": [
    "# 학습률이 너무 작은 경우\n",
    "import numpy as np\n",
    "import matplotlib.pyplot as plt\n",
    "\n",
    "X = np.array([1, 4.5, 9, 10, 13])\n",
    "y = np.array([0, 0.2, 2.5, 5.4, 7.3])\n",
    "\n",
    "w, b = 0, 0    # w, b 초기값을 0으로 두자\n",
    "learning_rate, epoch = 0.00001, 1000 # 학습률과 학습횟수(에폭)\n",
    "n = len(X)  # 입력데이터 개수\n",
    "\n",
    "for i in range(epoch):   # 학습 루프\n",
    "    y_pred = w*X + b     # 현재 w, b를 이용한 작업 T\n",
    "    error = y_pred - y   # 성능척도 P\n",
    "    w = w - learning_rate * (error * X).sum() # 경험 E로 개선\n",
    "    b = b - learning_rate * error.sum()\n",
    "\n",
    "print('w = ', w.round(2), 'b =', b.round(2))"
   ]
  },
  {
   "cell_type": "markdown",
   "metadata": {},
   "source": [
    "### 학습률이 너무 큰 경우"
   ]
  },
  {
   "cell_type": "code",
   "execution_count": 5,
   "metadata": {
    "colab": {
     "base_uri": "https://localhost:8080/"
    },
    "executionInfo": {
     "elapsed": 354,
     "status": "ok",
     "timestamp": 1636354768610,
     "user": {
      "displayName": "박동규",
      "photoUrl": "https://lh3.googleusercontent.com/a-/AOh14GhpRCibv0_8j-H1SbFa_4yLDitwNUElwkvFYBL3Ppk=s64",
      "userId": "10745738943866733973"
     },
     "user_tz": -540
    },
    "id": "UXBPKxWCV_sQ",
    "outputId": "049151d2-4219-4b6f-f7ae-c809cec72211"
   },
   "outputs": [
    {
     "name": "stdout",
     "output_type": "stream",
     "text": [
      "w =  nan b = nan\n"
     ]
    },
    {
     "name": "stderr",
     "output_type": "stream",
     "text": [
      "c:\\Users\\user\\anaconda3\\envs\\tensorflow_env\\lib\\site-packages\\numpy\\core\\_methods.py:48: RuntimeWarning: overflow encountered in reduce\n",
      "  return umr_sum(a, axis, dtype, out, keepdims, initial, where)\n",
      "c:\\Users\\user\\anaconda3\\envs\\tensorflow_env\\lib\\site-packages\\ipykernel_launcher.py:15: RuntimeWarning: invalid value encountered in double_scalars\n",
      "  from ipykernel import kernelapp as app\n"
     ]
    }
   ],
   "source": [
    "# 학습률이 너무 큰 경우\n",
    "import numpy as np\n",
    "import matplotlib.pyplot as plt\n",
    "\n",
    "X = np.array([1, 4.5, 9, 10, 13])\n",
    "y = np.array([0, 0.2, 2.5, 5.4, 7.3])\n",
    "\n",
    "w, b = 0, 0    # w, b 초기값을 0으로 두자\n",
    "learning_rate, epoch = 1.0, 1000 # 학습률과 학습횟수(에폭)\n",
    "n = len(X)  # 입력데이터 개수\n",
    "\n",
    "for i in range(epoch):   # 학습 루프\n",
    "    y_pred = w*X + b     # 현재 w, b를 이용한 작업 T\n",
    "    error = y_pred - y   # 성능척도 P\n",
    "    w = w - learning_rate * (error * X).sum() # 경험 E로 개선\n",
    "    b = b - learning_rate * error.sum()\n",
    "\n",
    "print('w = ', w.round(2), 'b =', b.round(2))"
   ]
  },
  {
   "cell_type": "code",
   "execution_count": 6,
   "metadata": {
    "colab": {
     "base_uri": "https://localhost:8080/"
    },
    "executionInfo": {
     "elapsed": 20,
     "status": "ok",
     "timestamp": 1627648652987,
     "user": {
      "displayName": "박동규",
      "photoUrl": "https://lh3.googleusercontent.com/a-/AOh14Gh9Ua-AujKgPQfHqoZthves993O8eBGSnBglV9Bsg=s64",
      "userId": "12283933156391729074"
     },
     "user_tz": -540
    },
    "id": "xf_C6C7_Wh5V",
    "outputId": "6cb37f21-b1f7-499f-c613-b0e73622c5bd"
   },
   "outputs": [
    {
     "name": "stdout",
     "output_type": "stream",
     "text": [
      "w = 1.0, 평균제곱 오차: 23.08\n",
      "w = 0.9, 평균제곱 오차: 15.86\n",
      "w = 0.8, 평균제곱 오차: 10.13\n",
      "w = 0.7, 평균제곱 오차: 5.89\n",
      "w = 0.6, 평균제곱 오차: 3.13\n",
      "w = 0.5, 평균제곱 오차: 1.85\n",
      "w = 0.4, 평균제곱 오차: 2.06\n",
      "w = 0.3, 평균제곱 오차: 3.75\n"
     ]
    }
   ],
   "source": [
    "import numpy as np\n",
    "from sklearn.metrics import mean_squared_error as mse\n",
    "\n",
    "# 5개 점의 x, y 좌표값\n",
    "x = np.array([1, 4.5, 9, 10, 13])\n",
    "y = np.array([0, 0.2, 2.5, 5.4, 7.3])\n",
    "\n",
    "w_list = np.arange(1.0, 0.2, -0.1)\n",
    "for w in w_list:     # w를 바꾸어가며 예측치와 정답의 오차 비교\n",
    "   y_hat = w * x\n",
    "   print('w = {:.1f}, 평균제곱 오차: {:.2f}'.format(w, mse(y_hat, y)))"
   ]
  },
  {
   "cell_type": "code",
   "execution_count": 7,
   "metadata": {
    "colab": {
     "base_uri": "https://localhost:8080/"
    },
    "executionInfo": {
     "elapsed": 383,
     "status": "ok",
     "timestamp": 1627648653353,
     "user": {
      "displayName": "박동규",
      "photoUrl": "https://lh3.googleusercontent.com/a-/AOh14Gh9Ua-AujKgPQfHqoZthves993O8eBGSnBglV9Bsg=s64",
      "userId": "12283933156391729074"
     },
     "user_tz": -540
    },
    "id": "O0DiWNsUKm6-",
    "outputId": "20a8c6d3-b68b-46af-dfe6-7a995cccf94f"
   },
   "outputs": [
    {
     "name": "stdout",
     "output_type": "stream",
     "text": [
      "ws = [1.  0.9 0.8 0.7 0.6 0.5 0.4 0.3 0.2 0.1]\n",
      "ys :  [23.077999999999996, 15.8625, 10.132000000000001, 5.886500000000003, 3.1260000000000012, 1.8505000000000003, 2.0599999999999987, 3.7544999999999957, 6.933999999999993, 11.59849999999999] min 0.1000000000000002\n"
     ]
    }
   ],
   "source": [
    "import numpy as np\n",
    "from sklearn.metrics import mean_squared_error as mse \n",
    "\n",
    "# 5개 점의 x, y 좌표값\n",
    "x = np.array([1, 4.5, 9, 10, 13])\n",
    "y = np.array([0, 0.2, 2.5, 5.4, 7.3])\n",
    "ws = np.arange(1.0, 0.0, -0.1)\n",
    "ys = []\n",
    "print('ws =', ws)\n",
    "for i in list(ws):\n",
    "    y_hat = i * x\n",
    "    ys.append(mse(y_hat, y))\n",
    "\n",
    "print('ys : ', ys, 'min', np.min(ws))"
   ]
  },
  {
   "cell_type": "code",
   "execution_count": 8,
   "metadata": {
    "colab": {
     "base_uri": "https://localhost:8080/"
    },
    "executionInfo": {
     "elapsed": 7,
     "status": "ok",
     "timestamp": 1627648653354,
     "user": {
      "displayName": "박동규",
      "photoUrl": "https://lh3.googleusercontent.com/a-/AOh14Gh9Ua-AujKgPQfHqoZthves993O8eBGSnBglV9Bsg=s64",
      "userId": "12283933156391729074"
     },
     "user_tz": -540
    },
    "id": "G7NCio84LOHF",
    "outputId": "80456870-a5de-4deb-9134-247fc1256906"
   },
   "outputs": [
    {
     "data": {
      "image/png": "[encoded data removed]",
      "text/plain": [
       "<Figure size 640x480 with 1 Axes>"
      ]
     },
     "metadata": {},
     "output_type": "display_data"
    }
   ],
   "source": [
    "import matplotlib.pyplot as plt\n",
    "\n",
    "plt.title('5 data and regression line')\n",
    "#print(x)\n",
    "plt.scatter(x, y, c='red')\n",
    "plt.plot(x, 0.5 * x)\n",
    "plt.xlabel('x')              \n",
    "plt.ylabel('y')    \n",
    "\n",
    "plt.show()"
   ]
  },
  {
   "cell_type": "code",
   "execution_count": 9,
   "metadata": {
    "colab": {
     "base_uri": "https://localhost:8080/",
     "height": 230
    },
    "executionInfo": {
     "elapsed": 485,
     "status": "error",
     "timestamp": 1628470988182,
     "user": {
      "displayName": "박동규",
      "photoUrl": "https://lh3.googleusercontent.com/a-/AOh14Gh9Ua-AujKgPQfHqoZthves993O8eBGSnBglV9Bsg=s64",
      "userId": "12283933156391729074"
     },
     "user_tz": -540
    },
    "id": "kdTQ1a8PLQ-R",
    "outputId": "dc51a685-59b4-46fd-c327-3f84b7ffb731"
   },
   "outputs": [
    {
     "data": {
      "text/plain": [
       "Text(0, 0.5, 'mse')"
      ]
     },
     "execution_count": 9,
     "metadata": {},
     "output_type": "execute_result"
    },
    {
     "data": {
      "image/png": "[encoded data removed]",
      "text/plain": [
       "<Figure size 640x480 with 1 Axes>"
      ]
     },
     "metadata": {},
     "output_type": "display_data"
    }
   ],
   "source": [
    "plt.title('MSE optimization graph')\n",
    "plt.plot(ws, ys, c='blue')\n",
    "\n",
    "plt.xlabel('w')              \n",
    "plt.ylabel('mse') "
   ]
  }
 ],
 "metadata": {
  "colab": {
   "collapsed_sections": [],
   "name": "07_sklearn.ipynb",
   "provenance": []
  },
  "kernelspec": {
   "display_name": "Python 3 (ipykernel)",
   "language": "python",
   "name": "python3"
  },
  "language_info": {
   "codemirror_mode": {
    "name": "ipython",
    "version": 3
   },
   "file_extension": ".py",
   "mimetype": "text/x-python",
   "name": "python",
   "nbconvert_exporter": "python",
   "pygments_lexer": "ipython3",
   "version": "3.12.2"
  }
 },
 "nbformat": 4,
 "nbformat_minor": 1
}
