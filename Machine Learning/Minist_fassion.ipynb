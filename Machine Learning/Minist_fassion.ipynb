{
 "cells": [
  {
   "cell_type": "code",
   "execution_count": 2,
   "metadata": {},
   "outputs": [],
   "source": [
    "import tensorflow as tf\n",
    "from tensorflow import keras\n",
    "import numpy as np\n",
    "import matplotlib.pyplot as plt\n",
    "\n",
    "\n",
    "fashion_mnist = keras.datasets.fashion_mnist\n",
    "(train_images, train_labels), (test_images, test_labels) = fashion_mnist.load_data()"
   ]
  },
  {
   "cell_type": "code",
   "execution_count": 3,
   "metadata": {},
   "outputs": [
    {
     "name": "stdout",
     "output_type": "stream",
     "text": [
      "0 : T-shirt\n",
      "1 : Trouser\n",
      "2 : Pullover\n",
      "3 : Dress\n",
      "4 : Coat\n",
      "5 : Sandal\n",
      "6 : Shirt\n",
      "7 : Sneaker\n",
      "8 : Bag\n",
      "9 : Ankle_boot\n"
     ]
    }
   ],
   "source": [
    "mnist_lbl = ['T-shirt', 'Trouser', 'Pullover', 'Dress', 'Coat', \n",
    "             'Sandal', 'Shirt', 'Sneaker', 'Bag', 'Ankle_boot']\n",
    "\n",
    "for i in range(len(mnist_lbl)):\n",
    "    print('{} : {}'.format(i, mnist_lbl[i]))"
   ]
  },
  {
   "cell_type": "code",
   "execution_count": 4,
   "metadata": {},
   "outputs": [],
   "source": [
    "train_images = train_images[:, :, :, np.newaxis]\n",
    "test_images = test_images[:, :, :, np.newaxis]\n",
    "train_images, test_images = train_images / 255.0, test_images / 255.0"
   ]
  },
  {
   "cell_type": "code",
   "execution_count": 5,
   "metadata": {},
   "outputs": [],
   "source": [
    "model = keras.models.Sequential([\n",
    "    keras.layers.Conv2D(input_shape=(28, 28, 1),\n",
    "                        kernel_size=(3, 3), padding='same',\n",
    "                        filters=32),\n",
    "    keras.layers.MaxPooling2D((2, 2), strides=2),\n",
    "    keras.layers.Conv2D(kernel_size=(3, 3), padding='same',\n",
    "                        filters=64),\n",
    "    keras.layers.MaxPooling2D((2, 2), strides=2),\n",
    "    keras.layers.Conv2D(kernel_size=(3, 3), padding='same',\n",
    "                        filters=32),\n",
    "    keras.layers.Flatten(),\n",
    "    keras.layers.Dense(128, activation='relu'),\n",
    "    keras.layers.Dense(32, activation='relu'),\n",
    "    keras.layers.Dense(10, activation='softmax'),\n",
    "])\n"
   ]
  },
  {
   "cell_type": "code",
   "execution_count": 6,
   "metadata": {},
   "outputs": [
    {
     "name": "stdout",
     "output_type": "stream",
     "text": [
      "Epoch 1/5\n",
      "1407/1407 [==============================] - 45s 31ms/step - loss: 0.4516 - accuracy: 0.8376 - val_loss: 0.3309 - val_accuracy: 0.8799\n",
      "Epoch 2/5\n",
      "1407/1407 [==============================] - 43s 30ms/step - loss: 0.2936 - accuracy: 0.8941 - val_loss: 0.2896 - val_accuracy: 0.8919\n",
      "Epoch 3/5\n",
      "1407/1407 [==============================] - 44s 32ms/step - loss: 0.2480 - accuracy: 0.9096 - val_loss: 0.2701 - val_accuracy: 0.9014\n",
      "Epoch 4/5\n",
      "1407/1407 [==============================] - 44s 31ms/step - loss: 0.2158 - accuracy: 0.9192 - val_loss: 0.2628 - val_accuracy: 0.9060\n",
      "Epoch 5/5\n",
      "1407/1407 [==============================] - 39s 28ms/step - loss: 0.1877 - accuracy: 0.9300 - val_loss: 0.2822 - val_accuracy: 0.9019\n"
     ]
    }
   ],
   "source": [
    "model.compile(optimizer='adam',\n",
    "              loss='sparse_categorical_crossentropy',\n",
    "              metrics=['accuracy'])\n",
    "\n",
    "# Train the model\n",
    "hist = model.fit(train_images, train_labels, \n",
    "                 epochs=5, validation_split=0.25)"
   ]
  },
  {
   "cell_type": "code",
   "execution_count": 7,
   "metadata": {},
   "outputs": [
    {
     "data": {
      "text/plain": [
       "[<matplotlib.lines.Line2D at 0x24e680d98b0>]"
      ]
     },
     "execution_count": 7,
     "metadata": {},
     "output_type": "execute_result"
    },
    {
     "data": {
      "image/png": "[encoded data removed]",
      "text/plain": [
       "<Figure size 640x480 with 1 Axes>"
      ]
     },
     "metadata": {},
     "output_type": "display_data"
    }
   ],
   "source": [
    "plt.plot(hist.history['accuracy'], 'b-')\n",
    "plt.plot(hist.history['val_accuracy'], 'r--')\n"
   ]
  },
  {
   "cell_type": "code",
   "execution_count": 8,
   "metadata": {},
   "outputs": [
    {
     "name": "stdout",
     "output_type": "stream",
     "text": [
      "313/313 - 3s - loss: 0.2954 - accuracy: 0.8969 - 3s/epoch - 9ms/step\n",
      "테스트 정확도: 0.8968999981880188\n"
     ]
    }
   ],
   "source": [
    "test_loss, test_acc = model.evaluate(test_images, test_labels, verbose=2)\n",
    "print('테스트 정확도:', test_acc)\n"
   ]
  },
  {
   "cell_type": "code",
   "execution_count": 9,
   "metadata": {},
   "outputs": [
    {
     "name": "stdout",
     "output_type": "stream",
     "text": [
      "1/1 [==============================] - 0s 173ms/step\n",
      "예측값 = [9 2 1 1 6 1 4 6 5 7 4 5 7 3 4 1 2 4 8 0 2 5 7 5 1]\n",
      "실제값 = [9 2 1 1 6 1 4 6 5 7 4 5 7 3 4 1 2 4 8 0 2 5 7 9 1]\n"
     ]
    }
   ],
   "source": [
    "images = test_images[:25]\n",
    "pred = np.argmax(model.predict(images), axis=1)\n",
    "print('예측값 =', pred)\n",
    "print('실제값 =', test_labels[:25])\n"
   ]
  },
  {
   "cell_type": "code",
   "execution_count": 10,
   "metadata": {},
   "outputs": [],
   "source": [
    "def plot_images(images, labels, images_per_row=5):\n",
    "    n_images = len(images)\n",
    "    n_rows = (n_images - 1) // images_per_row + 1\n",
    "    fig, ax = plt.subplots(n_rows, images_per_row,\n",
    "                           figsize=(images_per_row * 2, n_rows * 2))\n",
    "    for i in range(n_rows):\n",
    "        for j in range(images_per_row):\n",
    "            if i * images_per_row + j >= n_images: break\n",
    "            img_idx = i * images_per_row + j\n",
    "            a_image = images[img_idx].reshape(28, 28)\n",
    "            if n_rows > 1:\n",
    "                axis = ax[i, j]\n",
    "            else:\n",
    "                axis = ax[j]\n",
    "            axis.get_xaxis().set_visible(False)\n",
    "            axis.get_yaxis().set_visible(False)\n",
    "            label = mnist_lbl[labels[img_idx]]\n",
    "            axis.set_title(label)\n",
    "            axis.imshow(a_image, cmap='gray', interpolation='nearest')\n"
   ]
  },
  {
   "cell_type": "code",
   "execution_count": 11,
   "metadata": {},
   "outputs": [
    {
     "name": "stdout",
     "output_type": "stream",
     "text": [
      "313/313 [==============================] - 3s 8ms/step\n",
      "예측값 = [9 2 1 1 6 1 4 6 5 7 4 5 7 3 4 1 2 4 8 0 2 5 7 5 1 6 6 0 9 3]\n",
      "실제값 = [9 2 1 1 6 1 4 6 5 7 4 5 7 3 4 1 2 4 8 0 2 5 7 9 1 4 6 0 9 3]\n"
     ]
    }
   ],
   "source": [
    "pred = np.argmax(model.predict(test_images), axis=1)\n",
    "print('예측값 =', pred[:30])\n",
    "print('실제값 =', test_labels[:30])\n"
   ]
  },
  {
   "cell_type": "code",
   "execution_count": 13,
   "metadata": {},
   "outputs": [
    {
     "name": "stdout",
     "output_type": "stream",
     "text": [
      "['T-shirt', 'Trouser', 'Pullover', 'Dress', 'Coat', 'Sandal', 'Shirt', 'Sneaker', 'Bag', 'Ankle_boot']\n",
      "[[819   2  18   8   0   0  93   0   3   1]\n",
      " [  0 953   0   0   0   0   0   0   1   0]\n",
      " [  7   0 814   5  42   0  43   0   1   0]\n",
      " [ 25  29  15 921  31   0  38   0   3   0]\n",
      " [  7  11  68  44 885   0  75   0   2   0]\n",
      " [  2   0   0   0   0 976   0   9   7   6]\n",
      " [131   3  85  19  42   0 743   0   5   0]\n",
      " [  1   0   0   1   0  19   2 984   7  89]\n",
      " [  8   2   0   2   0   0   6   0 970   0]\n",
      " [  0   0   0   0   0   5   0   7   1 904]]\n"
     ]
    },
    {
     "data": {
      "text/plain": [
       "<matplotlib.image.AxesImage at 0x24e63c74190>"
      ]
     },
     "execution_count": 13,
     "metadata": {},
     "output_type": "execute_result"
    },
    {
     "data": {
      "image/png": "[encoded data removed]",
      "text/plain": [
       "<Figure size 480x480 with 1 Axes>"
      ]
     },
     "metadata": {},
     "output_type": "display_data"
    }
   ],
   "source": [
    "from sklearn.metrics import confusion_matrix\n",
    "\n",
    "conf_mat = confusion_matrix(pred, test_labels)\n",
    "print(mnist_lbl)\n",
    "print(conf_mat)\n",
    "plt.matshow(conf_mat)\n"
   ]
  }
 ],
 "metadata": {
  "kernelspec": {
   "display_name": "ai",
   "language": "python",
   "name": "python3"
  },
  "language_info": {
   "codemirror_mode": {
    "name": "ipython",
    "version": 3
   },
   "file_extension": ".py",
   "mimetype": "text/x-python",
   "name": "python",
   "nbconvert_exporter": "python",
   "pygments_lexer": "ipython3",
   "version": "3.8.19"
  }
 },
 "nbformat": 4,
 "nbformat_minor": 2
}
