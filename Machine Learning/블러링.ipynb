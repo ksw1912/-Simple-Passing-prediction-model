{
 "cells": [
  {
   "cell_type": "code",
   "execution_count": 1,
   "metadata": {},
   "outputs": [
    {
     "ename": "ModuleNotFoundError",
     "evalue": "No module named 'sklearn'",
     "output_type": "error",
     "traceback": [
      "\u001b[1;31m---------------------------------------------------------------------------\u001b[0m",
      "\u001b[1;31mModuleNotFoundError\u001b[0m                       Traceback (most recent call last)",
      "Cell \u001b[1;32mIn[1], line 2\u001b[0m\n\u001b[0;32m      1\u001b[0m \u001b[38;5;28;01mimport\u001b[39;00m \u001b[38;5;21;01mnumpy\u001b[39;00m \u001b[38;5;28;01mas\u001b[39;00m \u001b[38;5;21;01mnp\u001b[39;00m\n\u001b[1;32m----> 2\u001b[0m \u001b[38;5;28;01mfrom\u001b[39;00m \u001b[38;5;21;01msklearn\u001b[39;00m\u001b[38;5;21;01m.\u001b[39;00m\u001b[38;5;21;01mdatasets\u001b[39;00m \u001b[38;5;28;01mimport\u001b[39;00m load_sample_image\n\u001b[0;32m      3\u001b[0m \u001b[38;5;28;01mimport\u001b[39;00m \u001b[38;5;21;01mmatplotlib\u001b[39;00m\u001b[38;5;21;01m.\u001b[39;00m\u001b[38;5;21;01mpyplot\u001b[39;00m \u001b[38;5;28;01mas\u001b[39;00m \u001b[38;5;21;01mplt\u001b[39;00m\n\u001b[0;32m      4\u001b[0m \u001b[38;5;28;01mimport\u001b[39;00m \u001b[38;5;21;01mcv2\u001b[39;00m\n",
      "\u001b[1;31mModuleNotFoundError\u001b[0m: No module named 'sklearn'"
     ]
    }
   ],
   "source": [
    "import numpy as np\n",
    "from sklearn.datasets import load_sample_image\n",
    "import matplotlib.pyplot as plt\n",
    "import cv2\n",
    "\n",
    "flower = load_sample_image('flower.jpg') # 또는 china\n",
    "plt.imshow(꽃)\n",
    "plt.title('Sample image: flower.jpg') # 또는 china\n",
    "\n",
    "print('flower.shape =', flower.shape)\n",
    "print('flower.dtype =', flower.dtype)"
   ]
  },
  {
   "cell_type": "code",
   "execution_count": null,
   "metadata": {},
   "outputs": [],
   "source": [
    "def blur_filter(img, n):\n",
    "    filter = np.ones((n, n), np.float32) / (n * n)\n",
    "    blurred = cv2.filter2D(img, -1, filter)\n",
    "    return blurred\n",
    "\n",
    "china = load_sample_image('china.jpg')\n",
    "\n",
    "fig, ax = plt.subplots(2, 2, figsize=(10, 8))\n",
    "ax[0, 0].imshow(china)\n",
    "ax[0, 0].axis('off')\n",
    "ax[0, 0].set_title('Original')\n",
    "\n",
    "ax[0, 1].imshow(blur_filter(china, 3))\n",
    "ax[0, 1].axis('off')\n",
    "ax[0, 1].set_title('3x3 Blur filter')\n",
    "\n",
    "ax[1, 0].imshow(blur_filter(china, 7))\n",
    "ax[1, 0].axis('off')\n",
    "ax[1, 0].set_title('7x7 Blur filter')\n",
    "\n",
    "ax[1, 1].imshow(blur_filter(china, 9))\n",
    "ax[1, 1].axis('off')\n",
    "ax[1, 1].set_title('9x9 Blur filter')"
   ]
  },
  {
   "cell_type": "code",
   "execution_count": null,
   "metadata": {},
   "outputs": [],
   "source": [
    "china = load_sample_image('china.jpg')\n",
    "\n",
    "# 수직 모서리를 강조하는 필터\n",
    "v_filter = np.array([[-4, 0, 4]])\n",
    "\n",
    "v_filtered = cv2.filter2D(china, -1, v_filter)\n",
    "plt.imshow(v_filtered)\n",
    "plt.title('Edge X')\n",
    "\n",
    "china = load_sample_image('china.jpg')\n",
    "\n",
    "# 가로 모서리를 강조하는 필터\n",
    "h_filter = np.array([[-4], [0], [4]])\n",
    "\n",
    "h_filtered = cv2.filter2D(china, -1, h_filter)\n",
    "plt.imshow(h_filtered)\n",
    "plt.title('Edge Y')"
   ]
  }
 ],
 "metadata": {
  "kernelspec": {
   "display_name": "ai",
   "language": "python",
   "name": "python3"
  },
  "language_info": {
   "codemirror_mode": {
    "name": "ipython",
    "version": 3
   },
   "file_extension": ".py",
   "mimetype": "text/x-python",
   "name": "python",
   "nbconvert_exporter": "python",
   "pygments_lexer": "ipython3",
   "version": "3.8.19"
  }
 },
 "nbformat": 4,
 "nbformat_minor": 2
}
