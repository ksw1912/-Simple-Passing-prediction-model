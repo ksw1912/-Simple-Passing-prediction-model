{
 "cells": [
  {
   "cell_type": "code",
   "execution_count": 27,
   "metadata": {},
   "outputs": [],
   "source": [
    "import tensorflow as tf\n",
    "import pandas as pd\n",
    "import numpy as np\n",
    "\n",
    "\n"
   ]
  },
  {
   "cell_type": "code",
   "execution_count": 28,
   "metadata": {},
   "outputs": [],
   "source": [
    "data = pd.read_csv(r\"C:/Users/user/Downloads/gpascore.csv\")\n",
    "data.dropna(inplace=True)\n",
    "\n",
    "ydata =data['admit'].values\n",
    "xdata = []\n",
    "for i, rows in data.iterrows():\n",
    "     xdata.append([rows['gre'], rows['gpa'], rows['rank'] ])\n",
    "\n"
   ]
  },
  {
   "cell_type": "code",
   "execution_count": 29,
   "metadata": {},
   "outputs": [
    {
     "name": "stdout",
     "output_type": "stream",
     "text": [
      "Epoch 1/10\n",
      "14/14 [==============================] - 1s 3ms/step - loss: 0.6958 - accuracy: 0.5600\n",
      "Epoch 2/10\n",
      "14/14 [==============================] - 0s 4ms/step - loss: 0.7067 - accuracy: 0.4988\n",
      "Epoch 3/10\n",
      "14/14 [==============================] - 0s 4ms/step - loss: 0.6882 - accuracy: 0.5765\n",
      "Epoch 4/10\n",
      "14/14 [==============================] - 0s 5ms/step - loss: 0.6905 - accuracy: 0.5435\n",
      "Epoch 5/10\n",
      "14/14 [==============================] - 0s 5ms/step - loss: 0.6814 - accuracy: 0.5506\n",
      "Epoch 6/10\n",
      "14/14 [==============================] - 0s 5ms/step - loss: 0.6979 - accuracy: 0.5647\n",
      "Epoch 7/10\n",
      "14/14 [==============================] - 0s 5ms/step - loss: 0.6882 - accuracy: 0.5600\n",
      "Epoch 8/10\n",
      "14/14 [==============================] - 0s 5ms/step - loss: 0.6837 - accuracy: 0.5271\n",
      "Epoch 9/10\n",
      "14/14 [==============================] - 0s 5ms/step - loss: 0.7212 - accuracy: 0.4565\n",
      "Epoch 10/10\n",
      "14/14 [==============================] - 0s 5ms/step - loss: 0.6984 - accuracy: 0.5059\n"
     ]
    },
    {
     "data": {
      "text/plain": [
       "<keras.callbacks.History at 0x1bc32faaf48>"
      ]
     },
     "execution_count": 29,
     "metadata": {},
     "output_type": "execute_result"
    }
   ],
   "source": [
    "model = tf.keras.models.Sequential([\n",
    "    tf.keras.layers.Dense(64, activation='tanh'),\n",
    "    tf.keras.layers.Dense(128,activation='tanh'),\n",
    "    tf.keras.layers.Dense(1, activation=\"sigmoid\"),\n",
    "])\n",
    "model.compile(optimizer='adam', loss='binary_crossentropy',metrics=['accuracy'] )\n",
    "\n",
    "model.fit(np.array(xdata),np.array(ydata),epochs=10)\n",
    "\n",
    "\n"
   ]
  },
  {
   "cell_type": "code",
   "execution_count": null,
   "metadata": {},
   "outputs": [],
   "source": []
  },
  {
   "cell_type": "code",
   "execution_count": null,
   "metadata": {},
   "outputs": [],
   "source": []
  },
  {
   "cell_type": "markdown",
   "metadata": {},
   "source": []
  },
  {
   "cell_type": "markdown",
   "metadata": {},
   "source": []
  }
 ],
 "metadata": {
  "kernelspec": {
   "display_name": "tensorflow_env",
   "language": "python",
   "name": "python3"
  },
  "language_info": {
   "codemirror_mode": {
    "name": "ipython",
    "version": 3
   },
   "file_extension": ".py",
   "mimetype": "text/x-python",
   "name": "python",
   "nbconvert_exporter": "python",
   "pygments_lexer": "ipython3",
   "version": "3.7.12"
  }
 },
 "nbformat": 4,
 "nbformat_minor": 2
}
