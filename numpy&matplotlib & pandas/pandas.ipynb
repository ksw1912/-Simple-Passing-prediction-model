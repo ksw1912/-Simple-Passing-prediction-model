{
 "cells": [
  {
   "cell_type": "code",
   "execution_count": 31,
   "metadata": {},
   "outputs": [
    {
     "name": "stdout",
     "output_type": "stream",
     "text": [
      "         2007   2008   2009   2010   2011\n",
      "China    7.71   7.95  11.96  15.84  16.33\n",
      "EU      19.02  17.71  15.00  16.70  17.48\n",
      "US      10.47   8.45   5.58   7.60   8.40\n",
      "Japan   10.87  10.83   7.55   9.09   7.88\n",
      "Korea    4.04   3.78   3.45   4.20   4.62\n",
      "Mexico   2.01   2.05   1.50   2.25   2.54\n",
      "Index(['China', 'EU', 'US', 'Japan', 'Korea', 'Mexico'], dtype='object')\n",
      "Index(['2007', '2008', '2009', '2010', '2011'], dtype='object')\n",
      "         2007   2008   2009   2010   2011  total       mean\n",
      "China    7.71   7.95  11.96  15.84  16.33  59.79  19.930000\n",
      "EU      19.02  17.71  15.00  16.70  17.48  85.91  28.636667\n",
      "US      10.47   8.45   5.58   7.60   8.40  40.50  13.500000\n",
      "Japan   10.87  10.83   7.55   9.09   7.88  46.22  15.406667\n",
      "Korea    4.04   3.78   3.45   4.20   4.62  20.09   6.696667\n",
      "Mexico   2.01   2.05   1.50   2.25   2.54  10.35   3.450000\n",
      "         2008   2009   2010   2011  total       mean\n",
      "China    7.95  11.96  15.84  16.33  59.79  19.930000\n",
      "EU      17.71  15.00  16.70  17.48  85.91  28.636667\n",
      "US       8.45   5.58   7.60   8.40  40.50  13.500000\n",
      "Japan   10.83   7.55   9.09   7.88  46.22  15.406667\n",
      "Mexico   2.05   1.50   2.25   2.54  10.35   3.450000\n"
     ]
    },
    {
     "data": {
      "text/plain": [
       "US    8.45\n",
       "Name: 2008, dtype: float64"
      ]
     },
     "execution_count": 31,
     "metadata": {},
     "output_type": "execute_result"
    }
   ],
   "source": [
    "import numpy as np\n",
    "import pandas as pd\n",
    "\n",
    "file = 'vehicle_prod.csv'\n",
    "df = pd.read_csv(file,encoding='CP949',index_col=0)\n",
    "print(df)\n",
    "print(df.index)\n",
    "print(df.columns)\n",
    "#데이터 프레임은 dict로 이루어져 해당 칼럼 추출 key: value로 접근\n",
    "df['total']= df.sum(axis=1) #열방향으로 추가 됌\n",
    "df['mean'] =df.mean(axis=1)\n",
    "print(df)\n",
    "df. drop('2007', inplace= True , axis= 1)\n",
    "df. drop('Korea', inplace= True , axis= 0)\n",
    "print(df)\n",
    "\n"
   ]
  }
 ],
 "metadata": {
  "kernelspec": {
   "display_name": "tensorflow_env",
   "language": "python",
   "name": "python3"
  },
  "language_info": {
   "codemirror_mode": {
    "name": "ipython",
    "version": 3
   },
   "file_extension": ".py",
   "mimetype": "text/x-python",
   "name": "python",
   "nbconvert_exporter": "python",
   "pygments_lexer": "ipython3",
   "version": "3.7.12"
  }
 },
 "nbformat": 4,
 "nbformat_minor": 2
}
